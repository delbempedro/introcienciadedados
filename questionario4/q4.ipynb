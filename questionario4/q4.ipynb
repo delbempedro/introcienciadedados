{
 "cells": [
  {
   "cell_type": "code",
   "execution_count": 66,
   "id": "a84e332e",
   "metadata": {},
   "outputs": [],
   "source": [
    "import random\n",
    "import pandas as pd\n",
    "import numpy as np\n",
    "import matplotlib.pyplot as plt\n",
    "random.seed(42) # deﬁne the seed (important to reproduce the results)\n",
    "import pandas as pd"
   ]
  },
  {
   "cell_type": "code",
   "execution_count": 67,
   "id": "6c900e14",
   "metadata": {},
   "outputs": [
    {
     "name": "stdout",
     "output_type": "stream",
     "text": [
      "Matriz de atributos: Número de linhas: 59  colunas:  7\n"
     ]
    },
    {
     "data": {
      "text/html": [
       "<div>\n",
       "<style scoped>\n",
       "    .dataframe tbody tr th:only-of-type {\n",
       "        vertical-align: middle;\n",
       "    }\n",
       "\n",
       "    .dataframe tbody tr th {\n",
       "        vertical-align: top;\n",
       "    }\n",
       "\n",
       "    .dataframe thead th {\n",
       "        text-align: right;\n",
       "    }\n",
       "</style>\n",
       "<table border=\"1\" class=\"dataframe\">\n",
       "  <thead>\n",
       "    <tr style=\"text-align: right;\">\n",
       "      <th></th>\n",
       "      <th>fruit_label</th>\n",
       "      <th>fruit_name</th>\n",
       "      <th>fruit_subtype</th>\n",
       "      <th>mass</th>\n",
       "      <th>width</th>\n",
       "      <th>height</th>\n",
       "      <th>color_score</th>\n",
       "    </tr>\n",
       "  </thead>\n",
       "  <tbody>\n",
       "    <tr>\n",
       "      <th>0</th>\n",
       "      <td>1</td>\n",
       "      <td>apple</td>\n",
       "      <td>granny_smith</td>\n",
       "      <td>192</td>\n",
       "      <td>8.4</td>\n",
       "      <td>7.3</td>\n",
       "      <td>0.55</td>\n",
       "    </tr>\n",
       "    <tr>\n",
       "      <th>1</th>\n",
       "      <td>1</td>\n",
       "      <td>apple</td>\n",
       "      <td>granny_smith</td>\n",
       "      <td>180</td>\n",
       "      <td>8.0</td>\n",
       "      <td>6.8</td>\n",
       "      <td>0.59</td>\n",
       "    </tr>\n",
       "    <tr>\n",
       "      <th>2</th>\n",
       "      <td>1</td>\n",
       "      <td>apple</td>\n",
       "      <td>granny_smith</td>\n",
       "      <td>176</td>\n",
       "      <td>7.4</td>\n",
       "      <td>7.2</td>\n",
       "      <td>0.60</td>\n",
       "    </tr>\n",
       "    <tr>\n",
       "      <th>3</th>\n",
       "      <td>2</td>\n",
       "      <td>mandarin</td>\n",
       "      <td>mandarin</td>\n",
       "      <td>86</td>\n",
       "      <td>6.2</td>\n",
       "      <td>4.7</td>\n",
       "      <td>0.80</td>\n",
       "    </tr>\n",
       "    <tr>\n",
       "      <th>4</th>\n",
       "      <td>2</td>\n",
       "      <td>mandarin</td>\n",
       "      <td>mandarin</td>\n",
       "      <td>84</td>\n",
       "      <td>6.0</td>\n",
       "      <td>4.6</td>\n",
       "      <td>0.79</td>\n",
       "    </tr>\n",
       "    <tr>\n",
       "      <th>5</th>\n",
       "      <td>2</td>\n",
       "      <td>mandarin</td>\n",
       "      <td>mandarin</td>\n",
       "      <td>80</td>\n",
       "      <td>5.8</td>\n",
       "      <td>4.3</td>\n",
       "      <td>0.77</td>\n",
       "    </tr>\n",
       "    <tr>\n",
       "      <th>6</th>\n",
       "      <td>2</td>\n",
       "      <td>mandarin</td>\n",
       "      <td>mandarin</td>\n",
       "      <td>80</td>\n",
       "      <td>5.9</td>\n",
       "      <td>4.3</td>\n",
       "      <td>0.81</td>\n",
       "    </tr>\n",
       "    <tr>\n",
       "      <th>7</th>\n",
       "      <td>2</td>\n",
       "      <td>mandarin</td>\n",
       "      <td>mandarin</td>\n",
       "      <td>76</td>\n",
       "      <td>5.8</td>\n",
       "      <td>4.0</td>\n",
       "      <td>0.81</td>\n",
       "    </tr>\n",
       "    <tr>\n",
       "      <th>8</th>\n",
       "      <td>1</td>\n",
       "      <td>apple</td>\n",
       "      <td>braeburn</td>\n",
       "      <td>178</td>\n",
       "      <td>7.1</td>\n",
       "      <td>7.8</td>\n",
       "      <td>0.92</td>\n",
       "    </tr>\n",
       "    <tr>\n",
       "      <th>9</th>\n",
       "      <td>1</td>\n",
       "      <td>apple</td>\n",
       "      <td>braeburn</td>\n",
       "      <td>172</td>\n",
       "      <td>7.4</td>\n",
       "      <td>7.0</td>\n",
       "      <td>0.89</td>\n",
       "    </tr>\n",
       "  </tbody>\n",
       "</table>\n",
       "</div>"
      ],
      "text/plain": [
       "   fruit_label fruit_name fruit_subtype  mass  width  height  color_score\n",
       "0            1      apple  granny_smith   192    8.4     7.3         0.55\n",
       "1            1      apple  granny_smith   180    8.0     6.8         0.59\n",
       "2            1      apple  granny_smith   176    7.4     7.2         0.60\n",
       "3            2   mandarin      mandarin    86    6.2     4.7         0.80\n",
       "4            2   mandarin      mandarin    84    6.0     4.6         0.79\n",
       "5            2   mandarin      mandarin    80    5.8     4.3         0.77\n",
       "6            2   mandarin      mandarin    80    5.9     4.3         0.81\n",
       "7            2   mandarin      mandarin    76    5.8     4.0         0.81\n",
       "8            1      apple      braeburn   178    7.1     7.8         0.92\n",
       "9            1      apple      braeburn   172    7.4     7.0         0.89"
      ]
     },
     "execution_count": 67,
     "metadata": {},
     "output_type": "execute_result"
    }
   ],
   "source": [
    "# URL do CSV \"raw\" no GitHub\n",
    "url = (\n",
    "\"https://raw.githubusercontent.com/rocksaint/fruit-data-with-colours/\"\n",
    "\"master/fruit_data_with_colours.csv\"\n",
    ")\n",
    "data = pd.read_csv(url)\n",
    "nrow, ncol = data.shape\n",
    "print(\"Matriz de atributos: Número de linhas:\", nrow, \" colunas: \", ncol)\n",
    "attributes = list(data.columns)\n",
    "data.head(10)"
   ]
  },
  {
   "cell_type": "markdown",
   "id": "e400b915",
   "metadata": {},
   "source": [
    "# Questão1"
   ]
  },
  {
   "cell_type": "code",
   "execution_count": 68,
   "id": "660ecf48",
   "metadata": {},
   "outputs": [],
   "source": [
    "from sklearn.model_selection import train_test_split\n",
    "from sklearn.preprocessing import OneHotEncoder, StandardScaler\n",
    "from sklearn.compose import ColumnTransformer\n",
    "from sklearn.pipeline import Pipeline\n",
    "from sklearn.neighbors import KNeighborsClassifier"
   ]
  },
  {
   "cell_type": "code",
   "execution_count": 69,
   "id": "6c1b9b58",
   "metadata": {},
   "outputs": [
    {
     "name": "stdout",
     "output_type": "stream",
     "text": [
      "Classe (y) - Primeiras 5 linhas:\n",
      "0    1\n",
      "1    1\n",
      "2    1\n",
      "3    2\n",
      "4    2\n",
      "Name: fruit_label, dtype: int64\n",
      "\n",
      "Atributos (X) - Primeiras 5 linhas:\n",
      "  fruit_subtype  mass  width  height  color_score\n",
      "0  granny_smith   192    8.4     7.3         0.55\n",
      "1  granny_smith   180    8.0     6.8         0.59\n",
      "2  granny_smith   176    7.4     7.2         0.60\n",
      "3      mandarin    86    6.2     4.7         0.80\n",
      "4      mandarin    84    6.0     4.6         0.79\n"
     ]
    }
   ],
   "source": [
    "# 'y' será a nossa coluna alvo (target)\n",
    "y = data['fruit_label']\n",
    "\n",
    "# 'x' conterá todos os atributos, exceto as colunas de rótulo/nome\n",
    "x = data.drop(['fruit_label', 'fruit_name'], axis=1)\n",
    "\n",
    "print(\"Classe (y) - Primeiras 5 linhas:\")\n",
    "print(y.head())\n",
    "\n",
    "print(\"\\nAtributos (X) - Primeiras 5 linhas:\")\n",
    "print(x.head())"
   ]
  },
  {
   "cell_type": "code",
   "execution_count": 70,
   "id": "27c7657f",
   "metadata": {},
   "outputs": [
    {
     "name": "stdout",
     "output_type": "stream",
     "text": [
      "Formato dos dados de treino (X_train): (41, 5)\n",
      "Formato dos dados de teste (X_test): (18, 5)\n",
      "Formato dos rótulos de treino (y_train): (41,)\n",
      "Formato dos rótulos de teste (y_test): (18,)\n"
     ]
    }
   ],
   "source": [
    "X_train, X_test, y_train, y_test = train_test_split(x, y, test_size=0.3, random_state=42)\n",
    "\n",
    "print(\"Formato dos dados de treino (X_train):\", X_train.shape)\n",
    "print(\"Formato dos dados de teste (X_test):\", X_test.shape)\n",
    "print(\"Formato dos rótulos de treino (y_train):\", y_train.shape)\n",
    "print(\"Formato dos rótulos de teste (y_test):\", y_test.shape)"
   ]
  },
  {
   "cell_type": "code",
   "execution_count": 71,
   "id": "c92bb350",
   "metadata": {},
   "outputs": [],
   "source": [
    "numerical_features = ['mass', 'width', 'height', 'color_score']\n",
    "categorical_features = ['fruit_subtype']\n",
    "\n",
    "preprocessor = ColumnTransformer(\n",
    "    transformers=[\n",
    "        ('num', StandardScaler(), numerical_features),\n",
    "        ('cat', OneHotEncoder(), categorical_features)\n",
    "    ])"
   ]
  },
  {
   "cell_type": "code",
   "execution_count": 72,
   "id": "002456f0",
   "metadata": {},
   "outputs": [],
   "source": [
    "vm = ['euclidean', 'manhattan', 'chebyshev', 'minkowski']\n",
    "k_range = range(1, 21)\n",
    "\n",
    "best_k = 0\n",
    "best_metric = ''\n",
    "best_score = 0.0\n",
    "best_classifier = None\n",
    "\n",
    "for metric in vm:\n",
    "    for k in k_range:\n",
    "        pipeline = Pipeline(steps=[\n",
    "            ('preprocessor', preprocessor),\n",
    "            ('classifier', KNeighborsClassifier(n_neighbors=k, metric=metric))\n",
    "        ])\n",
    "        pipeline.fit(X_train, y_train)\n",
    "        \n",
    "        score = pipeline.score(X_test, y_test)\n",
    "        \n",
    "        if score > best_score:\n",
    "            best_score = score\n",
    "            best_k = k\n",
    "            best_metric = metric\n",
    "            best_classifier = pipeline"
   ]
  },
  {
   "cell_type": "code",
   "execution_count": 73,
   "id": "0798d2db",
   "metadata": {},
   "outputs": [
    {
     "name": "stdout",
     "output_type": "stream",
     "text": [
      "\n",
      "--- Resposta da questão 1: ---\n",
      "A melhor métrica de distância foi: 'euclidean'\n",
      "O melhor valor de k foi: 1\n",
      "A acurácia do melhor modelo KNN foi: 1.0000\n"
     ]
    }
   ],
   "source": [
    "print(\"\\n--- Resposta da questão 1: ---\")\n",
    "print(f\"A melhor métrica de distância foi: '{best_metric}'\")\n",
    "print(f\"O melhor valor de k foi: {best_k}\")\n",
    "print(f\"A acurácia do melhor modelo KNN foi: {best_score:.4f}\")"
   ]
  },
  {
   "cell_type": "markdown",
   "id": "fbe35be5",
   "metadata": {},
   "source": [
    "# Questão2"
   ]
  },
  {
   "cell_type": "code",
   "execution_count": 74,
   "id": "1999e3e5",
   "metadata": {},
   "outputs": [],
   "source": [
    "from sklearn.linear_model import LogisticRegression"
   ]
  },
  {
   "cell_type": "code",
   "execution_count": 75,
   "id": "1fb45d97",
   "metadata": {},
   "outputs": [
    {
     "name": "stdout",
     "output_type": "stream",
     "text": [
      "\n",
      "--- Resposta da questão 2 ---\n",
      "A acurácia do modelo de Regressão Logística foi: 1.0000\n"
     ]
    }
   ],
   "source": [
    "log_reg_pipeline = Pipeline(steps=[\n",
    "    ('preprocessor', preprocessor),\n",
    "    ('classifier', LogisticRegression(random_state=42, max_iter=1000))\n",
    "])\n",
    "\n",
    "log_reg_pipeline.fit(X_train, y_train)\n",
    "\n",
    "log_reg_score = log_reg_pipeline.score(X_test, y_test)\n",
    "\n",
    "print(\"\\n--- Resposta da questão 2 ---\")\n",
    "print(f\"A acurácia do modelo de Regressão Logística foi: {log_reg_score:.4f}\")"
   ]
  }
 ],
 "metadata": {
  "kernelspec": {
   "display_name": "base",
   "language": "python",
   "name": "python3"
  },
  "language_info": {
   "codemirror_mode": {
    "name": "ipython",
    "version": 3
   },
   "file_extension": ".py",
   "mimetype": "text/x-python",
   "name": "python",
   "nbconvert_exporter": "python",
   "pygments_lexer": "ipython3",
   "version": "3.13.5"
  }
 },
 "nbformat": 4,
 "nbformat_minor": 5
}
