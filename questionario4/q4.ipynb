{
 "cells": [
  {
   "cell_type": "markdown",
   "id": "e400b915",
   "metadata": {},
   "source": [
    "#Questão 1"
   ]
  },
  {
   "cell_type": "code",
   "execution_count": null,
   "id": "aec4453b",
   "metadata": {},
   "outputs": [],
   "source": [
    "#print(f\"Resposta da questão 1: O melhor classificador foi {best_classifier}\")"
   ]
  },
  {
   "cell_type": "markdown",
   "id": "fbe35be5",
   "metadata": {},
   "source": [
    "#Questão 2"
   ]
  }
 ],
 "metadata": {
  "kernelspec": {
   "display_name": "base",
   "language": "python",
   "name": "python3"
  },
  "language_info": {
   "name": "python",
   "version": "3.13.5"
  }
 },
 "nbformat": 4,
 "nbformat_minor": 5
}
