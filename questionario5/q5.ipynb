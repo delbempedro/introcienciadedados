{
 "cells": [
  {
   "cell_type": "markdown",
   "id": "b95ba8f9",
   "metadata": {},
   "source": [
    "#Questão 1"
   ]
  },
  {
   "cell_type": "markdown",
   "id": "6fa857b6",
   "metadata": {},
   "source": [
    "##Regrssão Linear Múltipla"
   ]
  },
  {
   "cell_type": "code",
   "execution_count": null,
   "id": "05648fc4",
   "metadata": {},
   "outputs": [],
   "source": [
    "print(\"\\n--- Resposta da questão 2 ---\")\n",
    "print(f\"A acurácia do modelo de Regressão Logística foi: {log_reg_score:.4f}\")"
   ]
  }
 ],
 "metadata": {
  "kernelspec": {
   "display_name": "base",
   "language": "python",
   "name": "python3"
  },
  "language_info": {
   "name": "python",
   "version": "3.13.5"
  }
 },
 "nbformat": 4,
 "nbformat_minor": 5
}
